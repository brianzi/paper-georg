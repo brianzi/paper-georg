{
 "cells": [
  {
   "cell_type": "code",
   "execution_count": 2,
   "metadata": {
    "collapsed": false
   },
   "outputs": [],
   "source": [
    "import pint\n",
    "import numpy as np\n",
    "\n",
    "u = pint.UnitRegistry()\n",
    "from IPython.display import display"
   ]
  },
  {
   "cell_type": "code",
   "execution_count": 42,
   "metadata": {
    "collapsed": false
   },
   "outputs": [
    {
     "data": {
      "text/plain": [
       "'sigma_bulk [1/ohm nm]:'"
      ]
     },
     "metadata": {},
     "output_type": "display_data"
    },
    {
     "data": {
      "text/html": [
       "0.0240233876365 1/(nanometer ohm)"
      ],
      "text/latex": [
       "$0.0240233876365 \\frac{1}{\\left(nanometer \\cdot ohm\\right)}$"
      ],
      "text/plain": [
       "<Quantity(0.0240233876365, '1 / nanometer / ohm')>"
      ]
     },
     "metadata": {},
     "output_type": "display_data"
    },
    {
     "data": {
      "text/html": [
       "3.03727904861 nanometer"
      ],
      "text/latex": [
       "$3.03727904861 nanometer$"
      ],
      "text/plain": [
       "<Quantity(3.03727904861, 'nanometer')>"
      ]
     },
     "metadata": {},
     "output_type": "display_data"
    },
    {
     "name": "stdout",
     "output_type": "stream",
     "text": [
      "sigma_1d = 310055.569546 elementary_charge ** 2 * nanometer / hbar\n",
      "sqrt(d/tc0) from data 140.630769913 nanometer / eV ** 0.5 / femtosecond ** 0.5\n",
      "diff [nm^2/fs]=  2.04510122607 nanometer ** 2 / femtosecond\n",
      "d/2*ac0*r^2 from data: 2.92922286875 dimensionless\n",
      "4.0\n"
     ]
    }
   ],
   "source": [
    "#data from marcus paper.\n",
    "\n",
    "r1 = 45*u.nm\n",
    "t=10*u.nm#13*u.nm\n",
    "r2=r1+t\n",
    "r=np.sqrt((r1**2 + r2**2)/2.) # rms radius\n",
    "\n",
    "r0 = 53*u.ohm\n",
    "\n",
    "\n",
    "area = np.pi*(r2**2 - r1**2)\n",
    "\n",
    "length=4* u.micrometer\n",
    "\n",
    "lf=2*np.pi/ 17.5 * u.nm\n",
    "\n",
    "\n",
    "sigma_bulk = length/(area*r0)\n",
    "\n",
    "display(\"sigma_bulk [1/ohm nm]:\",sigma_bulk.to(1/u.ohm/u.nm))\n",
    "\n",
    "le = sigma_bulk*3*np.pi /(2*np.pi/lf)**2 *u.hbar / u.e**2 # mean free path, nm\n",
    "le = le.to(u.nm)\n",
    "\n",
    "display(le.to(u.nm))\n",
    "\n",
    "print \"sigma_1d =\", (length/r0).to(u.nm*u.e**2/u.hbar)\n",
    "\n",
    "\n",
    "#estimate d/tc0\n",
    "vf=2.02 * u.nm/u.fs\n",
    "diff=vf*le/3.\n",
    "\n",
    "tc0=(1.2*u.kelvin*u.boltzmann_constant).to(u.electron_volt) # ev\n",
    "\n",
    "\n",
    "print \"sqrt(d/tc0) from data\", np.sqrt(diff/tc0)\n",
    "\n",
    "print \"diff [nm^2/fs]= \", diff\n",
    "\n",
    "print \"d/2*ac0*r^2 from data:\",(diff/(2*0.88*tc0*r**2)*u.hbar).to_base_units()\n",
    "print 1/0.5**2"
   ]
  },
  {
   "cell_type": "code",
   "execution_count": 39,
   "metadata": {
    "collapsed": false
   },
   "outputs": [
    {
     "data": {
      "text/plain": [
       "'sigma_bulk [1/ohm nm]:'"
      ]
     },
     "metadata": {},
     "output_type": "display_data"
    },
    {
     "data": {
      "text/html": [
       "0.016404343753 1/(nanometer ohm)"
      ],
      "text/latex": [
       "$0.016404343753 \\frac{1}{\\left(nanometer \\cdot ohm\\right)}$"
      ],
      "text/plain": [
       "<Quantity(0.016404343753, '1 / nanometer / ohm')>"
      ]
     },
     "metadata": {},
     "output_type": "display_data"
    },
    {
     "data": {
      "text/html": [
       "2.07400264864 nanometer"
      ],
      "text/latex": [
       "$2.07400264864 nanometer$"
      ],
      "text/plain": [
       "<Quantity(2.07400264864, 'nanometer')>"
      ]
     },
     "metadata": {},
     "output_type": "display_data"
    },
    {
     "name": "stdout",
     "output_type": "stream",
     "text": [
      "sigma_1d = 279471.856904 elementary_charge ** 2 * nanometer / hbar\n",
      "sqrt(d/tc0) from data 123.646079616 nanometer / eV ** 0.5 / femtosecond ** 0.5\n",
      "diff [nm^2/fs]=  1.39649511675 nanometer ** 2 / femtosecond\n",
      "x=d/2*ac0*r^2 from data: 4.80874709548 dimensionless\n",
      "x from xi_0: 9.46838493245 dimensionless\n"
     ]
    }
   ],
   "source": [
    "#data from e7 paper.\n",
    "\n",
    "#r = 83/2.*u.nm # r_rms\n",
    "#t=20*u.nm#13*u.nm\n",
    "#r1=-t/2+np.sqrt(r**2-t**2/4.)\n",
    "#r2=r1+t\n",
    "#r=np.sqrt((r1**2 + r2**2)/2.) # rms radius\n",
    "r_mean = 66/2.*u.nm # r_rms\n",
    "t=20*u.nm#13*u.nm\n",
    "r1=r_mean-t/2.\n",
    "r2=r_mean+t/2.\n",
    "r=np.sqrt((r1**2 + r2**2)/2.) # rms radius\n",
    "\n",
    "r0 = 14.7*u.ohm\n",
    "\n",
    "\n",
    "area = np.pi*(r2**2 - r1**2)\n",
    "\n",
    "length=1* u.micrometer\n",
    "\n",
    "lf=2*np.pi/ 17.5 * u.nm\n",
    "\n",
    "\n",
    "sigma_bulk = length/(area*r0)\n",
    "\n",
    "display(\"sigma_bulk [1/ohm nm]:\",sigma_bulk.to(1/u.ohm/u.nm))\n",
    "\n",
    "le = sigma_bulk*3*np.pi /(2*np.pi/lf)**2 *u.hbar / u.e**2 # mean free path, nm\n",
    "le = le.to(u.nm)\n",
    "\n",
    "display(le.to(u.nm))\n",
    "\n",
    "print \"sigma_1d =\", (length/r0).to(u.nm*u.e**2/u.hbar)\n",
    "\n",
    "\n",
    "#estimate d/tc0\n",
    "vf=2.02 * u.nm/u.fs\n",
    "diff=vf*le/3.\n",
    "\n",
    "tc0=(1.06*u.kelvin*u.boltzmann_constant).to(u.electron_volt) # ev\n",
    "\n",
    "\n",
    "print \"sqrt(d/tc0) from data\", np.sqrt(diff/tc0)\n",
    "\n",
    "print \"diff [nm^2/fs]= \", diff\n",
    "\n",
    "print \"x=d/2*ac0*r^2 from data:\",(diff/(2*0.88*tc0*r**2)*u.hbar).to_base_units()\n",
    "\n",
    "xi_0= 110*u.nm\n",
    "\n",
    "print \"x from xi_0:\",4/0.88/np.pi*xi_0**2/r2**2"
   ]
  },
  {
   "cell_type": "code",
   "execution_count": 53,
   "metadata": {
    "collapsed": false
   },
   "outputs": [
    {
     "data": {
      "text/plain": [
       "'sigma_bulk [1/ohm nm]:'"
      ]
     },
     "metadata": {},
     "output_type": "display_data"
    },
    {
     "data": {
      "text/html": [
       "0.00779483510098 1/(nanometer ohm)"
      ],
      "text/latex": [
       "$0.00779483510098 \\frac{1}{\\left(nanometer \\cdot ohm\\right)}$"
      ],
      "text/plain": [
       "<Quantity(0.00779483510098, '1 / nanometer / ohm')>"
      ]
     },
     "metadata": {},
     "output_type": "display_data"
    },
    {
     "data": {
      "text/plain": [
       "'le'"
      ]
     },
     "metadata": {},
     "output_type": "display_data"
    },
    {
     "data": {
      "text/html": [
       "0.985501699337 nanometer"
      ],
      "text/latex": [
       "$0.985501699337 nanometer$"
      ],
      "text/plain": [
       "<Quantity(0.985501699337, 'nanometer')>"
      ]
     },
     "metadata": {},
     "output_type": "display_data"
    },
    {
     "name": "stdout",
     "output_type": "stream",
     "text": [
      "sigma_1d = 167001.475467 elementary_charge ** 2 * nanometer / hbar\n",
      "sqrt(d/tc0) from data 78.8036759401 nanometer / eV ** 0.5 / femtosecond ** 0.5\n",
      "diff [nm^2/fs]=  0.66357114422 nanometer ** 2 / femtosecond\n",
      "x=d/2*ac0*r^2 from data: 1.27449484626 dimensionless\n",
      "x from xi_0: 2.82799072824 dimensionless\n"
     ]
    }
   ],
   "source": [
    "#data from b4 paper.\n",
    "\n",
    "r_mean = 83/2.*u.nm # radius\n",
    "t=20*u.nm #thickness\n",
    "r1=r_mean-t/2. #inner radius\n",
    "r2=r_mean+t/2. #outer radius\n",
    "r=np.sqrt((r1**2 + r2**2)/2.) # rms radius\n",
    "\n",
    "\n",
    "r0 = 49.2*u.ohm # normal state resistance\n",
    "\n",
    "\n",
    "area = np.pi*(r2**2 - r1**2) # cross section area\n",
    "\n",
    "length=2* u.micrometer\n",
    "\n",
    "lf=2*np.pi/ (1.75e+8 / u.cm) # fermi wavelength, f\n",
    "#from http://www.knowledgedoor.com/2/elements_handbook/free_electron_fermi_surface_parameters.html\n",
    "\n",
    "sigma_bulk = length/(area*r0)\n",
    "\n",
    "display(\"sigma_bulk [1/ohm nm]:\",sigma_bulk.to(1/u.ohm/u.nm))\n",
    "\n",
    "#formula for mean free path from imry \n",
    "le = sigma_bulk*3*np.pi /(2*np.pi/lf)**2 *u.hbar / u.e**2 # mean free path\n",
    "le = le.to(u.nm)\n",
    "\n",
    "display(\"le\",le.to(u.nm))\n",
    "\n",
    "print \"sigma_1d =\", (length/r0).to(u.nm*u.e**2/u.hbar)\n",
    "\n",
    "\n",
    "#estimate d/tc0\n",
    "vf=2.02 * u.nm/u.fs\n",
    "diff=vf*le/3.\n",
    "\n",
    "tc0=(1.24*u.kelvin*u.boltzmann_constant).to(u.electron_volt) # ev\n",
    "\n",
    "\n",
    "print \"sqrt(d/tc0) from data\", np.sqrt(diff/tc0)\n",
    "\n",
    "print \"diff [nm^2/fs]= \", diff\n",
    "\n",
    "print \"x=d/2*ac0*r^2 from data:\",(diff/(2*0.88*tc0*r**2)*u.hbar).to_base_units()\n",
    "\n",
    "xi_0= 72*u.nm\n",
    "\n",
    "print \"x from xi_0:\",4/0.88/np.pi*xi_0**2/r2**2"
   ]
  },
  {
   "cell_type": "markdown",
   "metadata": {},
   "source": [
    "Sternfeld use the zero temperature coherence length, $\\xi_0^2 = \\frac{\\pi \\hbar v_F \\ell}{24 T_{c0}}$, so that in their notation, we have \n",
    "$$\n",
    "x= \\frac{D}{2R^2 \\alpha_{c0}} = \\frac{4}{0.88\\pi} \\frac{\\xi_0^2}{R^2}\n",
    "$$"
   ]
  },
  {
   "cell_type": "code",
   "execution_count": 41,
   "metadata": {
    "collapsed": false
   },
   "outputs": [
    {
     "name": "stdout",
     "output_type": "stream",
     "text": [
      "0.016364888047 1 / nanometer / ohm\n",
      "1299.89625626 nanometer\n"
     ]
    }
   ],
   "source": [
    "#data from sample e7, sternfeld:\n",
    "\n",
    "r_normal=14.7 *u.ohm\n",
    "tc = 1.06 * u.kelvin\n",
    "r = 66./2 * u.nm\n",
    "r1=r\n",
    "r2=r+t\n",
    "\n",
    "\n",
    "xi0=110 * u.nm\n",
    "\n",
    "l=6.5 * u.nm\n",
    "vf=2.02 * u.nm/u.fs\n",
    "\n",
    "lf=2*np.pi/ 17.5 * u.nm # fermi wavelength\n",
    "\n",
    "\n",
    "#length=0.2*u.um\n",
    "\n",
    "t=0.6*r\n",
    "\n",
    "#so what is the thickness?\n",
    "#le = sigma_bulk*3*np.pi /(2*np.pi/lf)**2 *u.hbar / u.e**2 # mean free path, nm\n",
    "sigma_bulk= u.e**2/(3*np.pi**2*u.hbar)*(2*np.pi/lf)**2*l\n",
    "\n",
    "print sigma_bulk.to(1/u.ohm/u.nm)\n",
    "\n",
    "#r_normal=1/sigma_bulk*length/area\n",
    "area = np.pi*(r2**2 - r1**2)\n",
    "\n",
    "\n",
    "\n",
    "\n",
    "#area=np.pi*r**2*(1-(r/t)**2)\n",
    "\n",
    "length=sigma_bulk*area*r_normal\n",
    "\n",
    "\n",
    "print length.to(u.nm)"
   ]
  },
  {
   "cell_type": "code",
   "execution_count": null,
   "metadata": {
    "collapsed": true
   },
   "outputs": [],
   "source": []
  },
  {
   "cell_type": "code",
   "execution_count": null,
   "metadata": {
    "collapsed": true
   },
   "outputs": [],
   "source": []
  }
 ],
 "metadata": {
  "kernelspec": {
   "display_name": "Python 2",
   "language": "python",
   "name": "python2"
  },
  "language_info": {
   "codemirror_mode": {
    "name": "ipython",
    "version": 2
   },
   "file_extension": ".py",
   "mimetype": "text/x-python",
   "name": "python",
   "nbconvert_exporter": "python",
   "pygments_lexer": "ipython2",
   "version": "2.7.10"
  }
 },
 "nbformat": 4,
 "nbformat_minor": 0
}
