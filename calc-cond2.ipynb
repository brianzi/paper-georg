{
 "cells": [
  {
   "cell_type": "code",
   "execution_count": 1,
   "metadata": {
    "collapsed": true
   },
   "outputs": [],
   "source": [
    "import pint\n",
    "import numpy as np\n",
    "\n",
    "u = pint.UnitRegistry()\n",
    "from IPython.display import display"
   ]
  },
  {
   "cell_type": "code",
   "execution_count": 4,
   "metadata": {
    "collapsed": false
   },
   "outputs": [
    {
     "data": {
      "text/plain": [
       "'sigma_bulk [1/ohm nm]:'"
      ]
     },
     "metadata": {},
     "output_type": "display_data"
    },
    {
     "data": {
      "text/html": [
       "0.00779483510098 1/(nanometer ohm)"
      ],
      "text/latex": [
       "$0.00779483510098 \\frac{1}{\\left(nanometer \\cdot ohm\\right)}$"
      ],
      "text/plain": [
       "<Quantity(0.00779483510098, '1 / nanometer / ohm')>"
      ]
     },
     "metadata": {},
     "output_type": "display_data"
    },
    {
     "data": {
      "text/plain": [
       "'mean free path'"
      ]
     },
     "metadata": {},
     "output_type": "display_data"
    },
    {
     "data": {
      "text/html": [
       "0.985501699337 nanometer"
      ],
      "text/latex": [
       "$0.985501699337 nanometer$"
      ],
      "text/plain": [
       "<Quantity(0.985501699337, 'nanometer')>"
      ]
     },
     "metadata": {},
     "output_type": "display_data"
    }
   ],
   "source": [
    "#data is from thesis, page 57, sample b4\n",
    "\n",
    "r_mean = 83/2.*u.nm # radius\n",
    "t=20*u.nm #thickness\n",
    "r1=r_mean-t/2. #inner radius\n",
    "r2=r_mean+t/2. #outer radius\n",
    "r=np.sqrt((r1**2 + r2**2)/2.) # rms radius\n",
    "\n",
    "\n",
    "r0 = 49.2*u.ohm # normal state resistance\n",
    "\n",
    "\n",
    "area = np.pi*(r2**2 - r1**2) # cross section area\n",
    "\n",
    "length=2* u.micrometer\n",
    "\n",
    "lf=2*np.pi/ (1.75e+8 / u.cm) # fermi wavelength, f\n",
    "#from http://www.knowledgedoor.com/2/elements_handbook/free_electron_fermi_surface_parameters.html\n",
    "\n",
    "sigma_bulk = length/(area*r0)\n",
    "\n",
    "display(\"sigma_bulk [1/ohm nm]:\",sigma_bulk.to(1/u.ohm/u.nm))\n",
    "\n",
    "#formula for mean free path from imry \n",
    "le = sigma_bulk*3*np.pi /(2*np.pi/lf)**2 *u.hbar / u.e**2 # mean free path\n",
    "le = le.to(u.nm)\n",
    "\n",
    "display('mean free path',le)"
   ]
  },
  {
   "cell_type": "code",
   "execution_count": null,
   "metadata": {
    "collapsed": true
   },
   "outputs": [],
   "source": []
  }
 ],
 "metadata": {
  "kernelspec": {
   "display_name": "Python 2",
   "language": "python",
   "name": "python2"
  },
  "language_info": {
   "codemirror_mode": {
    "name": "ipython",
    "version": 2
   },
   "file_extension": ".py",
   "mimetype": "text/x-python",
   "name": "python",
   "nbconvert_exporter": "python",
   "pygments_lexer": "ipython2",
   "version": "2.7.10"
  }
 },
 "nbformat": 4,
 "nbformat_minor": 0
}
