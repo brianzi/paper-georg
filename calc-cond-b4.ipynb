{
 "cells": [
  {
   "cell_type": "code",
   "execution_count": 1,
   "metadata": {
    "collapsed": true
   },
   "outputs": [],
   "source": [
    "import pint\n",
    "import numpy as np\n",
    "\n",
    "u = pint.UnitRegistry()\n",
    "from IPython.display import display"
   ]
  },
  {
   "cell_type": "markdown",
   "metadata": {},
   "source": [
    "This is the given data:\n",
    "\n",
    "u stands for units, so for instance u.nm is nanometeres.\n",
    "\n",
    "The data is taken for sample b4 from Itay's thesis, page 57."
   ]
  },
  {
   "cell_type": "code",
   "execution_count": 36,
   "metadata": {
    "collapsed": false
   },
   "outputs": [],
   "source": [
    "#data is from thesis, page 57, sample b4\n",
    "\n",
    "r_mean = 83/2.*u.nm # radius\n",
    "t=20*u.nm #thickness\n",
    "r1=r_mean-t #inner radius\n",
    "r2=r_mean #outer radius\n",
    "r=np.sqrt((r1**2 + r2**2)/2.) # rms radius\n",
    "\n",
    "\n",
    "r0 = 49.2*u.ohm # normal state resistance\n",
    "\n",
    "length=2* u.micrometer\n",
    "\n",
    "xi_0= 72*u.nm # coherence length\n",
    "\n",
    "tc0=(1.24*u.kelvin*u.boltzmann_constant).to(u.electron_volt) # critical temperature, as energy\n"
   ]
  },
  {
   "cell_type": "markdown",
   "metadata": {},
   "source": [
    "Calculate the  cross-sectional area, $A=\\pi(R_2^2-R_1^2)$, and thus obtain the bulk conductivity:"
   ]
  },
  {
   "cell_type": "code",
   "execution_count": 32,
   "metadata": {
    "collapsed": false
   },
   "outputs": [
    {
     "data": {
      "text/html": [
       "5215.04380496 nanometer<sup>2</sup>"
      ],
      "text/latex": [
       "$5215.04380496 nanometer^{2}$"
      ],
      "text/plain": [
       "<Quantity(5215.04380496, 'nanometer ** 2')>"
      ]
     },
     "metadata": {},
     "output_type": "display_data"
    },
    {
     "data": {
      "text/html": [
       "0.00779483510098 1/(nanometer ohm)"
      ],
      "text/latex": [
       "$0.00779483510098 \\frac{1}{\\left(nanometer \\cdot ohm\\right)}$"
      ],
      "text/plain": [
       "<Quantity(0.00779483510098, '1 / nanometer / ohm')>"
      ]
     },
     "metadata": {},
     "output_type": "display_data"
    }
   ],
   "source": [
    "#area = np.pi*(r2**2 - r1**2) # cross section area\n",
    "area=np.pi*2*r_mean*t\n",
    "display(area)\n",
    "sigma_bulk = length/(area*r0)\n",
    "\n",
    "display(sigma_bulk.to(1/u.nm/u.ohm))"
   ]
  },
  {
   "cell_type": "markdown",
   "metadata": {},
   "source": [
    "We also need the Fermi wavelength for aluminum, $k_F = 1.75 \\times 10^8 \\text{cm}^{-1}$, and the Fermi velocity $v_F =2.02\\times 10^8 \\text{cm}/\\text{s} $, which is taken from [this page](http://www.knowledgedoor.com/2/elements_handbook/free_electron_fermi_surface_parameters.html):"
   ]
  },
  {
   "cell_type": "code",
   "execution_count": 37,
   "metadata": {
    "collapsed": true
   },
   "outputs": [],
   "source": [
    "kf=(1.75e+8 / u.cm) # fermi wave vector\n",
    "vf= 2.02e+8 * u.cm/u.s\n"
   ]
  },
  {
   "cell_type": "markdown",
   "metadata": {},
   "source": [
    "Now we use the Drude formula to obtain the mean-free path. The formula for bulk conductivity is (from Imry's book):\n",
    "$$\n",
    "\\sigma = \\frac{e^2}{3 \\pi^2 \\hbar} k_F^2 \\ell.\n",
    "$$"
   ]
  },
  {
   "cell_type": "code",
   "execution_count": 34,
   "metadata": {
    "collapsed": false
   },
   "outputs": [
    {
     "data": {
      "text/plain": [
       "'mean free path'"
      ]
     },
     "metadata": {},
     "output_type": "display_data"
    },
    {
     "data": {
      "text/html": [
       "3.09604489874 nanometer"
      ],
      "text/latex": [
       "$3.09604489874 nanometer$"
      ],
      "text/plain": [
       "<Quantity(3.09604489874, 'nanometer')>"
      ]
     },
     "metadata": {},
     "output_type": "display_data"
    }
   ],
   "source": [
    "#formula for mean free path from imry \n",
    "le = sigma_bulk*3*np.pi**2  *u.hbar / ( kf**2*u.e**2 )# mean free path\n",
    "le = le.to(u.nm)\n",
    "\n",
    "display('mean free path',le)"
   ]
  },
  {
   "cell_type": "markdown",
   "metadata": {},
   "source": [
    "Finally, we want to obtain the ratio $x=\\frac{D}{2R^2\\alpha_{c0}}$, by using the zero-field quantities obtained above."
   ]
  },
  {
   "cell_type": "code",
   "execution_count": 41,
   "metadata": {
    "collapsed": false
   },
   "outputs": [
    {
     "name": "stdout",
     "output_type": "stream",
     "text": [
      "x=d/2*ac0*r^2 from data: 6.67995999908 dimensionless\n"
     ]
    }
   ],
   "source": [
    "diff=vf*le/3. #diffusion coefficient\n",
    "\n",
    "print \"x=d/2*ac0*r^2 from data:\",(diff/(2*0.88*tc0*r**2)*u.hbar).to_base_units()\n",
    "\n"
   ]
  },
  {
   "cell_type": "markdown",
   "metadata": {},
   "source": [
    "Sternfeld use the zero temperature coherence length, $\\xi_0^2 = \\frac{\\pi \\hbar v_F \\ell}{24 T_{c0}}$, so that in their notation, we have \n",
    "$$\n",
    "x= \\frac{D}{2R^2 \\alpha_{c0}} = \\frac{4}{0.88\\pi} \\frac{\\xi_0^2}{R^2}\n",
    "$$"
   ]
  },
  {
   "cell_type": "code",
   "execution_count": 42,
   "metadata": {
    "collapsed": false
   },
   "outputs": [
    {
     "name": "stdout",
     "output_type": "stream",
     "text": [
      "x from xi_0: 6.86705278918 dimensionless\n"
     ]
    }
   ],
   "source": [
    "print \"x from xi_0:\",4/0.88/np.pi*xi_0**2/r**2"
   ]
  },
  {
   "cell_type": "code",
   "execution_count": null,
   "metadata": {
    "collapsed": true
   },
   "outputs": [],
   "source": []
  }
 ],
 "metadata": {
  "kernelspec": {
   "display_name": "Python 2",
   "language": "python",
   "name": "python2"
  },
  "language_info": {
   "codemirror_mode": {
    "name": "ipython",
    "version": 2
   },
   "file_extension": ".py",
   "mimetype": "text/x-python",
   "name": "python",
   "nbconvert_exporter": "python",
   "pygments_lexer": "ipython2",
   "version": "2.7.10"
  }
 },
 "nbformat": 4,
 "nbformat_minor": 0
}
