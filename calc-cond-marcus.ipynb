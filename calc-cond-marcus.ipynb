{
 "cells": [
  {
   "cell_type": "code",
   "execution_count": 2,
   "metadata": {
    "collapsed": true
   },
   "outputs": [],
   "source": [
    "import pint\n",
    "import numpy as np\n",
    "\n",
    "u = pint.UnitRegistry()\n",
    "from IPython.display import display"
   ]
  },
  {
   "cell_type": "markdown",
   "metadata": {},
   "source": [
    "This is the given data:\n",
    "\n",
    "u stands for units, so for instance u.nm is nanometeres.\n",
    "\n",
    "The data is taken for sample b4 from Itay's thesis, page 57."
   ]
  },
  {
   "cell_type": "code",
   "execution_count": 26,
   "metadata": {
    "collapsed": false
   },
   "outputs": [],
   "source": [
    "#data is from thesis, page 57, sample b4\n",
    "\n",
    "r_mean = 90/2.*u.nm # radius\n",
    "t=11*u.nm #thickness\n",
    "r1=r_mean #inner radius\n",
    "r2=r_mean+t #outer radius\n",
    "r=np.sqrt((r1**2 + r2**2)/2.) # rms radius\n",
    "\n",
    "\n",
    "r0 = 53*u.ohm # normal state resistance\n",
    "\n",
    "length=2* u.micrometer\n",
    "\n",
    "xi_0= 110*u.nm # coherence length\n",
    "\n",
    "tc0=(1.2*u.kelvin*u.boltzmann_constant).to(u.electron_volt) # critical temperature, as energy\n"
   ]
  },
  {
   "cell_type": "markdown",
   "metadata": {},
   "source": [
    "Calculate the  cross-sectional area, $A=\\pi(R_2^2-R_1^2)$, and thus obtain the bulk conductivity:"
   ]
  },
  {
   "cell_type": "code",
   "execution_count": 27,
   "metadata": {
    "collapsed": false
   },
   "outputs": [
    {
     "data": {
      "text/html": [
       "3110.17672705 nanometer<sup>2</sup>"
      ],
      "text/latex": [
       "$3110.17672705 nanometer^{2}$"
      ],
      "text/plain": [
       "<Quantity(3110.17672705, 'nanometer ** 2')>"
      ]
     },
     "metadata": {},
     "output_type": "display_data"
    },
    {
     "data": {
      "text/html": [
       "0.0121330240588 1/(nanometer ohm)"
      ],
      "text/latex": [
       "$0.0121330240588 \\frac{1}{\\left(nanometer \\cdot ohm\\right)}$"
      ],
      "text/plain": [
       "<Quantity(0.0121330240588, '1 / nanometer / ohm')>"
      ]
     },
     "metadata": {},
     "output_type": "display_data"
    }
   ],
   "source": [
    "#area = np.pi*(r2**2 - r1**2) # cross section area\n",
    "area=np.pi*2*r_mean*t\n",
    "display(area)\n",
    "sigma_bulk = length/(area*r0)\n",
    "\n",
    "display(sigma_bulk.to(1/u.nm/u.ohm))"
   ]
  },
  {
   "cell_type": "markdown",
   "metadata": {},
   "source": [
    "We also need the Fermi wavelength for aluminum, $k_F = 1.75 \\times 10^8 \\text{cm}^{-1}$, and the Fermi velocity $v_F =2.02\\times 10^8 \\text{cm}/\\text{s} $, which is taken from [this page](http://www.knowledgedoor.com/2/elements_handbook/free_electron_fermi_surface_parameters.html):"
   ]
  },
  {
   "cell_type": "code",
   "execution_count": 28,
   "metadata": {
    "collapsed": true
   },
   "outputs": [],
   "source": [
    "kf=(1.75e+8 / u.cm) # fermi wave vector\n",
    "vf= 2.02e+8 * u.cm/u.s\n"
   ]
  },
  {
   "cell_type": "markdown",
   "metadata": {},
   "source": [
    "Now we use the Drude formula to obtain the mean-free path. The formula for bulk conductivity is (from Imry's book):\n",
    "$$\n",
    "\\sigma = \\frac{e^2}{3 \\pi^2 \\hbar} k_F^2 \\ell.\n",
    "$$"
   ]
  },
  {
   "cell_type": "code",
   "execution_count": 29,
   "metadata": {
    "collapsed": false
   },
   "outputs": [
    {
     "data": {
      "text/plain": [
       "'mean free path'"
      ]
     },
     "metadata": {},
     "output_type": "display_data"
    },
    {
     "data": {
      "text/html": [
       "4.81913815456 nanometer"
      ],
      "text/latex": [
       "$4.81913815456 nanometer$"
      ],
      "text/plain": [
       "<Quantity(4.81913815456, 'nanometer')>"
      ]
     },
     "metadata": {},
     "output_type": "display_data"
    }
   ],
   "source": [
    "#formula for mean free path from imry \n",
    "le = sigma_bulk*3*np.pi**2  *u.hbar / ( kf**2*u.e**2 )# mean free path\n",
    "le = le.to(u.nm)\n",
    "\n",
    "display('mean free path',le)"
   ]
  },
  {
   "cell_type": "markdown",
   "metadata": {},
   "source": [
    "Finally, we want to obtain the ratio $x=\\frac{D}{2R^2\\alpha_{c0}}$, by using the zero-field quantities obtained above."
   ]
  },
  {
   "cell_type": "code",
   "execution_count": 34,
   "metadata": {
    "collapsed": false
   },
   "outputs": [
    {
     "name": "stdout",
     "output_type": "stream",
     "text": [
      "x=d/2*ac0*r^2 from data: 4.54772942349 dimensionless\n"
     ]
    }
   ],
   "source": [
    "diff=vf*le/3. #diffusion coefficient\n",
    "\n",
    "print \"x=d/2*ac0*r^2 from data:\",(diff/(2*0.88*tc0*r**2)*u.hbar).to_base_units()\n",
    "\n"
   ]
  },
  {
   "cell_type": "markdown",
   "metadata": {
    "collapsed": false
   },
   "source": [
    "from the phase diagram, we expect $x=1/\\phi_{c0}^2$, where $\\phi_{c0}$ is the critical flux of the first lobe. From a look at the phase diagram, we see this to be about $\\phi_{c0} = 0.47$"
   ]
  },
  {
   "cell_type": "code",
   "execution_count": 35,
   "metadata": {
    "collapsed": false
   },
   "outputs": [
    {
     "name": "stdout",
     "output_type": "stream",
     "text": [
      "4.52693526483\n"
     ]
    }
   ],
   "source": [
    "print 1/0.47**2"
   ]
  },
  {
   "cell_type": "code",
   "execution_count": null,
   "metadata": {
    "collapsed": true
   },
   "outputs": [],
   "source": []
  }
 ],
 "metadata": {
  "kernelspec": {
   "display_name": "Python 2",
   "language": "python",
   "name": "python2"
  },
  "language_info": {
   "codemirror_mode": {
    "name": "ipython",
    "version": 2
   },
   "file_extension": ".py",
   "mimetype": "text/x-python",
   "name": "python",
   "nbconvert_exporter": "python",
   "pygments_lexer": "ipython2",
   "version": "2.7.10"
  }
 },
 "nbformat": 4,
 "nbformat_minor": 0
}
